{
 "cells": [
  {
   "cell_type": "code",
   "execution_count": 2,
   "metadata": {},
   "outputs": [],
   "source": [
    "import numpy as np"
   ]
  },
  {
   "attachments": {},
   "cell_type": "markdown",
   "metadata": {},
   "source": [
    "## Initializing Numpy Arrays"
   ]
  },
  {
   "cell_type": "code",
   "execution_count": 10,
   "metadata": {},
   "outputs": [
    {
     "name": "stdout",
     "output_type": "stream",
     "text": [
      "[[0. 0. 0.]\n",
      " [0. 0. 0.]\n",
      " [0. 0. 0.]]\n",
      "[[1. 1. 1.]\n",
      " [1. 1. 1.]\n",
      " [1. 1. 1.]]\n",
      "[[1. 0. 0.]\n",
      " [0. 1. 0.]\n",
      " [0. 0. 1.]]\n",
      "[[1 2 3]\n",
      " [4 5 6]]\n"
     ]
    }
   ],
   "source": [
    "zeroes = np.zeros((3,3))\n",
    "print(zeroes)\n",
    "\n",
    "ones = np.ones_like(zeroes)\n",
    "print(ones)\n",
    "\n",
    "identity = np.identity(3)\n",
    "print(identity)\n",
    "\n",
    "lst = [[1,2,3],[4,5,6]]\n",
    "np_arr = np.array(lst)\n",
    "print(np_arr)"
   ]
  },
  {
   "attachments": {},
   "cell_type": "markdown",
   "metadata": {},
   "source": [
    "## Checking commonly used metadata of arrays"
   ]
  },
  {
   "cell_type": "code",
   "execution_count": 11,
   "metadata": {},
   "outputs": [
    {
     "name": "stdout",
     "output_type": "stream",
     "text": [
      "[[0. 0. 0.]\n",
      " [0. 0. 0.]\n",
      " [0. 0. 0.]]\n",
      "Data Type: float64\n",
      "Shape: (3, 3)\n",
      "Dimensions: 2\n"
     ]
    }
   ],
   "source": [
    "zeroes = np.zeros((3,3))\n",
    "print(zeroes)\n",
    "print(\"Data Type:\", zeroes.dtype)\n",
    "print(\"Shape:\", zeroes.shape)\n",
    "print(\"Dimensions:\", zeroes.ndim)"
   ]
  },
  {
   "attachments": {},
   "cell_type": "markdown",
   "metadata": {},
   "source": [
    "## Numpy Arithmetic"
   ]
  },
  {
   "cell_type": "code",
   "execution_count": 16,
   "metadata": {},
   "outputs": [
    {
     "name": "stdout",
     "output_type": "stream",
     "text": [
      "[[1. 2. 3.]\n",
      " [4. 5. 6.]]\n",
      "[[ 2.  4.  6.]\n",
      " [ 8. 10. 12.]]\n",
      "[[ 2.  4.  6.]\n",
      " [ 8. 10. 12.]]\n",
      "[[False False False]\n",
      " [ True  True  True]]\n"
     ]
    }
   ],
   "source": [
    "arr = np.array([[1., 2., 3.], [4., 5., 6.]])\n",
    "print(arr)\n",
    "print(arr + arr)\n",
    "print(arr * 2)\n",
    "\n",
    "arr_2 = np.array([[1., 2., 3.], [3., 2., 1.]])\n",
    "print(arr > arr_2)"
   ]
  },
  {
   "attachments": {},
   "cell_type": "markdown",
   "metadata": {},
   "source": [
    "## Indexing and Slicing"
   ]
  },
  {
   "cell_type": "code",
   "execution_count": 28,
   "metadata": {},
   "outputs": [
    {
     "name": "stdout",
     "output_type": "stream",
     "text": [
      "0.0\n",
      "[4. 5. 6.]\n",
      "[0. 1. 2.]\n",
      "[3. 4. 5.]\n"
     ]
    }
   ],
   "source": [
    "# Single Dimension\n",
    "\n",
    "arr = np.array([0., 1., 2., 3., 4., 5., 6.])\n",
    "print(arr[0])\n",
    "print(arr[4:])\n",
    "print(arr[:3])\n",
    "print(arr[3:6])"
   ]
  },
  {
   "cell_type": "code",
   "execution_count": 34,
   "metadata": {},
   "outputs": [
    {
     "name": "stdout",
     "output_type": "stream",
     "text": [
      "[1. 2. 3.]\n",
      "1.0\n",
      "4.0\n",
      "[[1.]]\n"
     ]
    }
   ],
   "source": [
    "# Multi Dimension\n",
    "\n",
    "arr = np.array([[1., 2., 3.], [4., 5., 6.]])\n",
    "print(arr[0])\n",
    "print(arr[0,0])\n",
    "print(arr[1,0])\n",
    "print(arr[:1, :1])"
   ]
  },
  {
   "attachments": {},
   "cell_type": "markdown",
   "metadata": {},
   "source": [
    "## Boolean Indexing"
   ]
  },
  {
   "cell_type": "code",
   "execution_count": 39,
   "metadata": {},
   "outputs": [
    {
     "name": "stdout",
     "output_type": "stream",
     "text": [
      "['Joe' 'Joe' 'Joe']\n",
      "['Bob' 'Will' 'Bob' 'Will']\n",
      "['Joe' 'Joe' 'Joe']\n",
      "['Bob' 'Will' 'Bob' 'Will']\n"
     ]
    }
   ],
   "source": [
    "arr = np.array(['Bob', 'Joe', 'Will', 'Bob', 'Will', 'Joe', 'Joe'])\n",
    "\n",
    "print(arr[arr == 'Joe'])\n",
    "print(arr[arr != 'Joe'])\n",
    "\n",
    "cond = (arr != 'Bob') & (arr != 'Will')\n",
    "\n",
    "print(arr[cond])\n",
    "print(arr[~cond])"
   ]
  },
  {
   "attachments": {},
   "cell_type": "markdown",
   "metadata": {},
   "source": [
    "## Fancy Indexing\n"
   ]
  },
  {
   "cell_type": "code",
   "execution_count": 57,
   "metadata": {},
   "outputs": [
    {
     "name": "stdout",
     "output_type": "stream",
     "text": [
      "[[1. 1. 1.]\n",
      " [2. 2. 2.]]\n",
      "[[0. 0. 0.]\n",
      " [2. 2. 2.]]\n",
      "[[ 0  1  2  3]\n",
      " [ 4  5  6  7]\n",
      " [ 8  9 10 11]\n",
      " [12 13 14 15]\n",
      " [16 17 18 19]\n",
      " [20 21 22 23]\n",
      " [24 25 26 27]\n",
      " [28 29 30 31]]\n",
      "[ 4 23 29 10]\n"
     ]
    }
   ],
   "source": [
    "arr = np.empty((3, 3))\n",
    "\n",
    "for i in range(3):\n",
    "    arr[i] = i\n",
    "\n",
    "print(arr[[1,2]])\n",
    "print(arr[[0,2]])\n",
    "\n",
    "arr = np.arange(32).reshape((8, 4))\n",
    "print(arr)\n",
    "print(arr[[1, 5, 7, 2], [0, 3, 1, 2]])"
   ]
  }
 ],
 "metadata": {
  "kernelspec": {
   "display_name": "Python 3",
   "language": "python",
   "name": "python3"
  },
  "language_info": {
   "codemirror_mode": {
    "name": "ipython",
    "version": 3
   },
   "file_extension": ".py",
   "mimetype": "text/x-python",
   "name": "python",
   "nbconvert_exporter": "python",
   "pygments_lexer": "ipython3",
   "version": "3.9.0"
  },
  "orig_nbformat": 4
 },
 "nbformat": 4,
 "nbformat_minor": 2
}
