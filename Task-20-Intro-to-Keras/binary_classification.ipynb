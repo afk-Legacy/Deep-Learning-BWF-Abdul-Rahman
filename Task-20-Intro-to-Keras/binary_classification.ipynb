{
 "cells": [
  {
   "cell_type": "code",
   "execution_count": 13,
   "metadata": {},
   "outputs": [],
   "source": [
    "from keras.datasets import imdb"
   ]
  },
  {
   "cell_type": "code",
   "execution_count": 14,
   "metadata": {},
   "outputs": [],
   "source": [
    "(train_data, train_labels), (test_data, test_labels) = imdb.load_data(num_words=10000)"
   ]
  },
  {
   "cell_type": "code",
   "execution_count": 15,
   "metadata": {},
   "outputs": [
    {
     "data": {
      "text/plain": [
       "\" big hair big boobs bad music and a giant safety pin these are the words to best describe this terrible movie i love cheesy horror movies and i've seen hundreds but this had got to be on of the worst ever made the plot is paper thin and ridiculous the acting is an abomination the script is completely laughable the best is the end showdown with the cop and how he worked out who the killer is it's just so damn terribly written the clothes are sickening and funny in equal  the hair is big lots of boobs  men wear those cut  shirts that show off their  sickening that men actually wore them and the music is just  trash that plays over and over again in almost every scene there is trashy music boobs and  taking away bodies and the gym still doesn't close for  all joking aside this is a truly bad film whose only charm is to look back on the disaster that was the 80's and have a good old laugh at how bad everything was back then\""
      ]
     },
     "execution_count": 15,
     "metadata": {},
     "output_type": "execute_result"
    }
   ],
   "source": [
    "word_index = imdb.get_word_index()\n",
    "reverse_word_index = dict(\n",
    "[(value, key) for (key, value) in word_index.items()])\n",
    "decoded_review = ' '.join([reverse_word_index.get(i - 3, '') for i in train_data[1]])\n",
    "\n",
    "decoded_review"
   ]
  },
  {
   "cell_type": "code",
   "execution_count": 16,
   "metadata": {},
   "outputs": [],
   "source": [
    "import numpy as np\n",
    "\n",
    "def vectorize_data(input, dims = 10000):\n",
    "    arr = np.zeros(shape=(len(input), dims))\n",
    "\n",
    "    for i, seq in enumerate(input):\n",
    "        arr[i, seq] = 1\n",
    "    \n",
    "    return arr\n",
    "\n",
    "train_data = vectorize_data(train_data)\n",
    "test_data = vectorize_data(test_data)\n",
    "\n",
    "train_labels = np.asarray(train_labels).astype('float32')\n",
    "test_labels = np.asarray(test_labels).astype('float32')"
   ]
  },
  {
   "cell_type": "code",
   "execution_count": 17,
   "metadata": {},
   "outputs": [],
   "source": [
    "from keras import layers, models"
   ]
  },
  {
   "cell_type": "code",
   "execution_count": 18,
   "metadata": {},
   "outputs": [],
   "source": [
    "network = models.Sequential()\n",
    "\n",
    "network.add(layers.Dense(16, activation='relu', input_shape=(10000,)))\n",
    "network.add(layers.Dense(16, activation='relu'))\n",
    "network.add(layers.Dense(1, activation='sigmoid'))"
   ]
  },
  {
   "cell_type": "code",
   "execution_count": 19,
   "metadata": {},
   "outputs": [],
   "source": [
    "from keras import optimizers\n",
    "\n",
    "network.compile(optimizer= optimizers.RMSprop(learning_rate=0.001), loss='binary_crossentropy', metrics=['accuracy'])"
   ]
  },
  {
   "cell_type": "code",
   "execution_count": 20,
   "metadata": {},
   "outputs": [],
   "source": [
    "val_data = train_data[:10000]\n",
    "train_data = train_data[10000:]\n",
    "\n",
    "val_labels = train_labels[:10000]\n",
    "train_labels = train_labels[10000:]"
   ]
  },
  {
   "cell_type": "code",
   "execution_count": 21,
   "metadata": {},
   "outputs": [
    {
     "name": "stdout",
     "output_type": "stream",
     "text": [
      "Epoch 1/20\n",
      "30/30 [==============================] - 4s 85ms/step - loss: 0.5144 - accuracy: 0.7789 - val_loss: 0.3829 - val_accuracy: 0.8662\n",
      "Epoch 2/20\n",
      "30/30 [==============================] - 1s 26ms/step - loss: 0.3050 - accuracy: 0.9019 - val_loss: 0.3152 - val_accuracy: 0.8785\n",
      "Epoch 3/20\n",
      "30/30 [==============================] - 1s 22ms/step - loss: 0.2241 - accuracy: 0.9270 - val_loss: 0.2939 - val_accuracy: 0.8828\n",
      "Epoch 4/20\n",
      "30/30 [==============================] - 1s 23ms/step - loss: 0.1794 - accuracy: 0.9410 - val_loss: 0.2765 - val_accuracy: 0.8872\n",
      "Epoch 5/20\n",
      "30/30 [==============================] - 1s 24ms/step - loss: 0.1471 - accuracy: 0.9539 - val_loss: 0.2788 - val_accuracy: 0.8889\n",
      "Epoch 6/20\n",
      "30/30 [==============================] - 1s 22ms/step - loss: 0.1191 - accuracy: 0.9639 - val_loss: 0.3213 - val_accuracy: 0.8751\n",
      "Epoch 7/20\n",
      "30/30 [==============================] - 1s 27ms/step - loss: 0.0994 - accuracy: 0.9697 - val_loss: 0.3213 - val_accuracy: 0.8824\n",
      "Epoch 8/20\n",
      "30/30 [==============================] - 1s 23ms/step - loss: 0.0862 - accuracy: 0.9747 - val_loss: 0.3398 - val_accuracy: 0.8768\n",
      "Epoch 9/20\n",
      "30/30 [==============================] - 1s 23ms/step - loss: 0.0691 - accuracy: 0.9811 - val_loss: 0.3648 - val_accuracy: 0.8737\n",
      "Epoch 10/20\n",
      "30/30 [==============================] - 1s 24ms/step - loss: 0.0563 - accuracy: 0.9865 - val_loss: 0.3729 - val_accuracy: 0.8782\n",
      "Epoch 11/20\n",
      "30/30 [==============================] - 1s 27ms/step - loss: 0.0475 - accuracy: 0.9876 - val_loss: 0.4138 - val_accuracy: 0.8711\n",
      "Epoch 12/20\n",
      "30/30 [==============================] - 1s 24ms/step - loss: 0.0368 - accuracy: 0.9927 - val_loss: 0.4297 - val_accuracy: 0.8750\n",
      "Epoch 13/20\n",
      "30/30 [==============================] - 1s 27ms/step - loss: 0.0306 - accuracy: 0.9935 - val_loss: 0.5048 - val_accuracy: 0.8665\n",
      "Epoch 14/20\n",
      "30/30 [==============================] - 1s 26ms/step - loss: 0.0239 - accuracy: 0.9955 - val_loss: 0.4859 - val_accuracy: 0.8730\n",
      "Epoch 15/20\n",
      "30/30 [==============================] - 1s 28ms/step - loss: 0.0199 - accuracy: 0.9969 - val_loss: 0.5233 - val_accuracy: 0.8683\n",
      "Epoch 16/20\n",
      "30/30 [==============================] - 1s 28ms/step - loss: 0.0168 - accuracy: 0.9969 - val_loss: 0.5548 - val_accuracy: 0.8676\n",
      "Epoch 17/20\n",
      "30/30 [==============================] - 1s 29ms/step - loss: 0.0097 - accuracy: 0.9993 - val_loss: 0.5847 - val_accuracy: 0.8686\n",
      "Epoch 18/20\n",
      "30/30 [==============================] - 1s 27ms/step - loss: 0.0113 - accuracy: 0.9979 - val_loss: 0.6180 - val_accuracy: 0.8673\n",
      "Epoch 19/20\n",
      "30/30 [==============================] - 1s 25ms/step - loss: 0.0062 - accuracy: 0.9996 - val_loss: 0.7536 - val_accuracy: 0.8567\n",
      "Epoch 20/20\n",
      "30/30 [==============================] - 1s 23ms/step - loss: 0.0048 - accuracy: 0.9999 - val_loss: 0.6793 - val_accuracy: 0.8659\n"
     ]
    }
   ],
   "source": [
    "history = network.fit(train_data, train_labels, batch_size=512, epochs=20, validation_data=(val_data, val_labels))"
   ]
  },
  {
   "cell_type": "code",
   "execution_count": 22,
   "metadata": {},
   "outputs": [
    {
     "data": {
      "text/plain": [
       "dict_keys(['loss', 'accuracy', 'val_loss', 'val_accuracy'])"
      ]
     },
     "execution_count": 22,
     "metadata": {},
     "output_type": "execute_result"
    }
   ],
   "source": [
    "history_dict = history.history\n",
    "\n",
    "history_dict.keys()"
   ]
  },
  {
   "cell_type": "code",
   "execution_count": 23,
   "metadata": {},
   "outputs": [
    {
     "data": {
      "image/png": "[encoded data removed]",
      "text/plain": [
       "<Figure size 640x480 with 1 Axes>"
      ]
     },
     "metadata": {},
     "output_type": "display_data"
    }
   ],
   "source": [
    "import matplotlib.pyplot as plt\n",
    "\n",
    "loss_values = history_dict['loss']\n",
    "val_loss_values = history_dict['val_loss']\n",
    "\n",
    "epochs = range(1, 21)\n",
    "plt.plot(epochs, loss_values, 'bo', label='Training loss')\n",
    "plt.plot(epochs, val_loss_values, 'b', label='Validation loss')\n",
    "\n",
    "plt.title('Training and validation loss')\n",
    "plt.xlabel('Epochs')\n",
    "plt.ylabel('Loss')\n",
    "plt.legend()\n",
    "plt.show()"
   ]
  },
  {
   "cell_type": "code",
   "execution_count": 24,
   "metadata": {},
   "outputs": [
    {
     "data": {
      "image/png": "[encoded data removed]",
      "text/plain": [
       "<Figure size 640x480 with 1 Axes>"
      ]
     },
     "metadata": {},
     "output_type": "display_data"
    }
   ],
   "source": [
    "acc_values = history_dict['accuracy']\n",
    "val_acc_values = history_dict['val_accuracy']\n",
    "\n",
    "plt.plot(epochs, acc_values, 'bo', label='Training acc')\n",
    "plt.plot(epochs, val_acc_values, 'b', label='Validation acc')\n",
    "\n",
    "plt.title('Training and validation accuracy')\n",
    "plt.xlabel('Epochs')\n",
    "plt.ylabel('Loss')\n",
    "plt.legend()\n",
    "plt.show()"
   ]
  },
  {
   "cell_type": "code",
   "execution_count": 26,
   "metadata": {},
   "outputs": [
    {
     "name": "stdout",
     "output_type": "stream",
     "text": [
      "782/782 [==============================] - 4s 2ms/step - loss: 0.7395 - accuracy: 0.8507\n"
     ]
    },
    {
     "data": {
      "text/plain": [
       "[0.7395055294036865, 0.8507199883460999]"
      ]
     },
     "execution_count": 26,
     "metadata": {},
     "output_type": "execute_result"
    }
   ],
   "source": [
    "results = network.evaluate(test_data, test_labels)\n",
    "\n",
    "results"
   ]
  },
  {
   "attachments": {},
   "cell_type": "markdown",
   "metadata": {},
   "source": [
    "## Training for 4 epochs to get the best output"
   ]
  },
  {
   "cell_type": "code",
   "execution_count": 29,
   "metadata": {},
   "outputs": [],
   "source": [
    "network_2 = models.Sequential()\n",
    "\n",
    "network_2.add(layers.Dense(16, activation='relu', input_shape=(10000,)))\n",
    "network_2.add(layers.Dense(16, activation='relu'))\n",
    "network_2.add(layers.Dense(1, activation='sigmoid'))\n",
    "\n",
    "network_2.compile(optimizer= optimizers.RMSprop(learning_rate=0.001), loss='binary_crossentropy', metrics=['accuracy'])"
   ]
  },
  {
   "cell_type": "code",
   "execution_count": 30,
   "metadata": {},
   "outputs": [
    {
     "name": "stdout",
     "output_type": "stream",
     "text": [
      "Epoch 1/4\n",
      "30/30 [==============================] - 6s 72ms/step - loss: 0.5056 - accuracy: 0.7833 - val_loss: 0.3856 - val_accuracy: 0.8687\n",
      "Epoch 2/4\n",
      "30/30 [==============================] - 1s 23ms/step - loss: 0.3055 - accuracy: 0.9016 - val_loss: 0.3084 - val_accuracy: 0.8841\n",
      "Epoch 3/4\n",
      "30/30 [==============================] - 1s 24ms/step - loss: 0.2269 - accuracy: 0.9253 - val_loss: 0.2788 - val_accuracy: 0.8906\n",
      "Epoch 4/4\n",
      "30/30 [==============================] - 1s 19ms/step - loss: 0.1763 - accuracy: 0.9416 - val_loss: 0.2734 - val_accuracy: 0.8902\n"
     ]
    }
   ],
   "source": [
    "history_2 = network_2.fit(train_data, train_labels, batch_size=512, epochs=4, validation_data=(val_data, val_labels))"
   ]
  },
  {
   "cell_type": "code",
   "execution_count": 31,
   "metadata": {},
   "outputs": [
    {
     "name": "stdout",
     "output_type": "stream",
     "text": [
      "782/782 [==============================] - 2s 2ms/step - loss: 0.2915 - accuracy: 0.8832\n"
     ]
    },
    {
     "data": {
      "text/plain": [
       "[0.291495680809021, 0.8832399845123291]"
      ]
     },
     "execution_count": 31,
     "metadata": {},
     "output_type": "execute_result"
    }
   ],
   "source": [
    "results_2 = network_2.evaluate(test_data, test_labels)\n",
    "\n",
    "results_2"
   ]
  },
  {
   "attachments": {},
   "cell_type": "markdown",
   "metadata": {},
   "source": [
    "## Using a single layer"
   ]
  },
  {
   "cell_type": "code",
   "execution_count": 32,
   "metadata": {},
   "outputs": [],
   "source": [
    "network_3 = models.Sequential()\n",
    "\n",
    "network_3.add(layers.Dense(16, activation='relu', input_shape=(10000,)))\n",
    "network_3.add(layers.Dense(1, activation='sigmoid'))\n",
    "\n",
    "network_3.compile(optimizer= optimizers.RMSprop(learning_rate=0.001), loss='binary_crossentropy', metrics=['accuracy'])"
   ]
  },
  {
   "cell_type": "code",
   "execution_count": 33,
   "metadata": {},
   "outputs": [
    {
     "name": "stdout",
     "output_type": "stream",
     "text": [
      "Epoch 1/4\n",
      "30/30 [==============================] - 5s 63ms/step - loss: 0.4979 - accuracy: 0.7983 - val_loss: 0.4120 - val_accuracy: 0.8311\n",
      "Epoch 2/4\n",
      "30/30 [==============================] - 1s 22ms/step - loss: 0.3124 - accuracy: 0.9034 - val_loss: 0.3253 - val_accuracy: 0.8771\n",
      "Epoch 3/4\n",
      "30/30 [==============================] - 1s 19ms/step - loss: 0.2433 - accuracy: 0.9243 - val_loss: 0.2884 - val_accuracy: 0.8912\n",
      "Epoch 4/4\n",
      "30/30 [==============================] - 1s 19ms/step - loss: 0.1994 - accuracy: 0.9399 - val_loss: 0.2761 - val_accuracy: 0.8923\n"
     ]
    }
   ],
   "source": [
    "history_3 = network_3.fit(train_data, train_labels, batch_size=512, epochs=4, validation_data=(val_data, val_labels))"
   ]
  },
  {
   "cell_type": "code",
   "execution_count": 34,
   "metadata": {},
   "outputs": [
    {
     "name": "stdout",
     "output_type": "stream",
     "text": [
      "782/782 [==============================] - 2s 2ms/step - loss: 0.2925 - accuracy: 0.8840\n"
     ]
    },
    {
     "data": {
      "text/plain": [
       "[0.2924535274505615, 0.8839600086212158]"
      ]
     },
     "execution_count": 34,
     "metadata": {},
     "output_type": "execute_result"
    }
   ],
   "source": [
    "results_3 = network_3.evaluate(test_data, test_labels)\n",
    "\n",
    "results_3"
   ]
  },
  {
   "attachments": {},
   "cell_type": "markdown",
   "metadata": {},
   "source": [
    "## Using 3 layers\n"
   ]
  },
  {
   "cell_type": "code",
   "execution_count": 35,
   "metadata": {},
   "outputs": [],
   "source": [
    "network_4 = models.Sequential()\n",
    "\n",
    "network_4.add(layers.Dense(16, activation='relu', input_shape=(10000,)))\n",
    "network_4.add(layers.Dense(16, activation='relu', input_shape=(10000,)))\n",
    "network_4.add(layers.Dense(16, activation='relu', input_shape=(10000,)))\n",
    "network_4.add(layers.Dense(1, activation='sigmoid'))\n",
    "\n",
    "network_4.compile(optimizer= optimizers.RMSprop(learning_rate=0.001), loss='binary_crossentropy', metrics=['accuracy'])"
   ]
  },
  {
   "cell_type": "code",
   "execution_count": 36,
   "metadata": {},
   "outputs": [
    {
     "name": "stdout",
     "output_type": "stream",
     "text": [
      "Epoch 1/4\n",
      "30/30 [==============================] - 3s 55ms/step - loss: 0.5092 - accuracy: 0.7873 - val_loss: 0.3614 - val_accuracy: 0.8763\n",
      "Epoch 2/4\n",
      "30/30 [==============================] - 1s 22ms/step - loss: 0.2901 - accuracy: 0.9025 - val_loss: 0.3049 - val_accuracy: 0.8810\n",
      "Epoch 3/4\n",
      "30/30 [==============================] - 1s 19ms/step - loss: 0.2032 - accuracy: 0.9316 - val_loss: 0.2845 - val_accuracy: 0.8850\n",
      "Epoch 4/4\n",
      "30/30 [==============================] - 1s 19ms/step - loss: 0.1620 - accuracy: 0.9432 - val_loss: 0.3055 - val_accuracy: 0.8812\n"
     ]
    }
   ],
   "source": [
    "history_4 = network_4.fit(train_data, train_labels, batch_size=512, epochs=4, validation_data=(val_data, val_labels))"
   ]
  },
  {
   "cell_type": "code",
   "execution_count": 38,
   "metadata": {},
   "outputs": [
    {
     "name": "stdout",
     "output_type": "stream",
     "text": [
      "782/782 [==============================] - 2s 2ms/step - loss: 0.3227 - accuracy: 0.8717\n"
     ]
    },
    {
     "data": {
      "text/plain": [
       "[0.3227297365665436, 0.8716800212860107]"
      ]
     },
     "execution_count": 38,
     "metadata": {},
     "output_type": "execute_result"
    }
   ],
   "source": [
    "results_4 = network_4.evaluate(test_data, test_labels)\n",
    "\n",
    "results_4"
   ]
  },
  {
   "attachments": {},
   "cell_type": "markdown",
   "metadata": {},
   "source": [
    "## Using 32 nodes"
   ]
  },
  {
   "cell_type": "code",
   "execution_count": 45,
   "metadata": {},
   "outputs": [],
   "source": [
    "network_5 = models.Sequential()\n",
    "\n",
    "network_5.add(layers.Dense(32, activation='relu', input_shape=(10000,)))\n",
    "network_5.add(layers.Dense(32, activation='relu'))\n",
    "network_5.add(layers.Dense(1, activation='sigmoid'))\n",
    "\n",
    "network_5.compile(optimizer= optimizers.RMSprop(learning_rate=0.001), loss='binary_crossentropy', metrics=['accuracy'])"
   ]
  },
  {
   "cell_type": "code",
   "execution_count": 46,
   "metadata": {},
   "outputs": [
    {
     "name": "stdout",
     "output_type": "stream",
     "text": [
      "Epoch 1/5\n",
      "30/30 [==============================] - 4s 45ms/step - loss: 0.4709 - accuracy: 0.8021 - val_loss: 0.4078 - val_accuracy: 0.8247\n",
      "Epoch 2/5\n",
      "30/30 [==============================] - 1s 23ms/step - loss: 0.2733 - accuracy: 0.9013 - val_loss: 0.3030 - val_accuracy: 0.8774\n",
      "Epoch 3/5\n",
      "30/30 [==============================] - 1s 23ms/step - loss: 0.1968 - accuracy: 0.9335 - val_loss: 0.2764 - val_accuracy: 0.8902\n",
      "Epoch 4/5\n",
      "30/30 [==============================] - 1s 24ms/step - loss: 0.1538 - accuracy: 0.9481 - val_loss: 0.2859 - val_accuracy: 0.8875\n",
      "Epoch 5/5\n",
      "30/30 [==============================] - 1s 22ms/step - loss: 0.1271 - accuracy: 0.9577 - val_loss: 0.3016 - val_accuracy: 0.8825\n"
     ]
    }
   ],
   "source": [
    "history_5 = network_5.fit(train_data, train_labels, batch_size=512, epochs=5, validation_data=(val_data, val_labels))"
   ]
  },
  {
   "cell_type": "code",
   "execution_count": 47,
   "metadata": {},
   "outputs": [
    {
     "name": "stdout",
     "output_type": "stream",
     "text": [
      "782/782 [==============================] - 2s 2ms/step - loss: 0.3315 - accuracy: 0.8732\n"
     ]
    },
    {
     "data": {
      "text/plain": [
       "[0.3314773440361023, 0.873199999332428]"
      ]
     },
     "execution_count": 47,
     "metadata": {},
     "output_type": "execute_result"
    }
   ],
   "source": [
    "results_5 = network_5.evaluate(test_data, test_labels)\n",
    "\n",
    "results_5"
   ]
  }
 ],
 "metadata": {
  "kernelspec": {
   "display_name": ".venv",
   "language": "python",
   "name": "python3"
  },
  "language_info": {
   "codemirror_mode": {
    "name": "ipython",
    "version": 3
   },
   "file_extension": ".py",
   "mimetype": "text/x-python",
   "name": "python",
   "nbconvert_exporter": "python",
   "pygments_lexer": "ipython3",
   "version": "3.9.0"
  },
  "orig_nbformat": 4
 },
 "nbformat": 4,
 "nbformat_minor": 2
}
