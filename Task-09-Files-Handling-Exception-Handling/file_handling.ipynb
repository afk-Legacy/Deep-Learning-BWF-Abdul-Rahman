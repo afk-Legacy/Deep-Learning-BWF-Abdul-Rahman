{
 "cells": [
  {
   "attachments": {},
   "cell_type": "markdown",
   "metadata": {},
   "source": [
    "## Program #1 - Learning Python\n",
    "\n",
    "Open a blank file in your text editor and write a few lines summarizing what you’ve learned about Python so far. Start each line\n",
    "with the phrase In Python you can.... \n",
    "\n",
    "Save the file as learning_python.txt in the same directory as your exercises from this chapter. \n",
    "\n",
    "Write a program that reads the file and prints what you wrote three times. Print the contents once by reading in the entire file, once by looping over the file object, and once by storing the lines in a list and then working with them outside the with block."
   ]
  },
  {
   "cell_type": "code",
   "execution_count": 4,
   "metadata": {},
   "outputs": [
    {
     "name": "stdout",
     "output_type": "stream",
     "text": [
      "In Python you can:\n",
      "\n",
      "Use indentation to define blocks of code.\n",
      "Assign values to variables using the = operator.\n",
      "Create and use functions using the def keyword.\n",
      "Import modules and use their functions and classes.\n",
      "Work with different data types like strings, integers, and lists.\n",
      "Use control structures like if/else statements and loops.\n",
      "------------------------------\n",
      "In Python you can:\n",
      "\n",
      "Use indentation to define blocks of code.\n",
      "Assign values to variables using the = operator.\n",
      "Create and use functions using the def keyword.\n",
      "Import modules and use their functions and classes.\n",
      "Work with different data types like strings, integers, and lists.\n",
      "Use control structures like if/else statements and loops.\n",
      "------------------------------\n",
      "------------------------------\n",
      "In Python you can:\n",
      "\n",
      "Use indentation to define blocks of code.\n",
      "Assign values to variables using the = operator.\n",
      "Create and use functions using the def keyword.\n",
      "Import modules and use their functions and classes.\n",
      "Work with different data types like strings, integers, and lists.\n",
      "Use control structures like if/else statements and loops.\n"
     ]
    }
   ],
   "source": [
    "filename = 'learning_python.txt'\n",
    "\n",
    "# Read the entire file\n",
    "with open(filename) as file_object:\n",
    "    contents = file_object.read()\n",
    "print(contents)\n",
    "\n",
    "print(\"-\"*30)\n",
    "\n",
    "# Loop over the file object\n",
    "with open(filename) as file_object:\n",
    "    for line in file_object:\n",
    "        print(line.rstrip())\n",
    "\n",
    "print(\"-\"*30)\n",
    "\n",
    "# Store the lines in a list\n",
    "with open(filename) as file_object:\n",
    "    lines = file_object.readlines()\n",
    "\n",
    "print(\"-\"*30)\n",
    "\n",
    "for line in lines:\n",
    "    print(line.rstrip())\n"
   ]
  }
 ],
 "metadata": {
  "kernelspec": {
   "display_name": "Python 3",
   "language": "python",
   "name": "python3"
  },
  "language_info": {
   "codemirror_mode": {
    "name": "ipython",
    "version": 3
   },
   "file_extension": ".py",
   "mimetype": "text/x-python",
   "name": "python",
   "nbconvert_exporter": "python",
   "pygments_lexer": "ipython3",
   "version": "3.9.0"
  },
  "orig_nbformat": 4
 },
 "nbformat": 4,
 "nbformat_minor": 2
}
