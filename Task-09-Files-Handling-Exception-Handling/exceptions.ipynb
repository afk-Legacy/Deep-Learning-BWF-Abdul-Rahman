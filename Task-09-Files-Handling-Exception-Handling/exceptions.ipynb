{
 "cells": [
  {
   "attachments": {},
   "cell_type": "markdown",
   "metadata": {},
   "source": [
    "## Program #1 - Addition\n",
    "\n",
    "One common problem when prompting for numerical input occurs when people provide text instead of numbers. When you try to convert the input to an int, you’ll get a TypeError. Write a program that prompts for two numbers. Add them together and print the result. Catch the TypeError if either input value is not a number, and print a friendly error message. Test your program by entering two numbers and then by entering some text instead of a number."
   ]
  },
  {
   "cell_type": "code",
   "execution_count": 2,
   "metadata": {},
   "outputs": [
    {
     "name": "stdout",
     "output_type": "stream",
     "text": [
      "Please enter a valid number!\n"
     ]
    }
   ],
   "source": [
    "\n",
    "try:\n",
    "    num1 = int(input(\"Enter the first number: \"))\n",
    "    num2 = int(input(\"Enter the second number: \"))\n",
    "    result = num1 + num2\n",
    "    print(\"The sum is:\", result)\n",
    "except ValueError:\n",
    "    print(\"Please enter a valid number!\")\n"
   ]
  },
  {
   "attachments": {},
   "cell_type": "markdown",
   "metadata": {},
   "source": [
    "## Program #2 - Addition Calculator \n",
    "\n",
    "Wrap your code from Exercise 10-6 in a while loop so the user can continue entering numbers even if they make a mistake and enter text instead of a number."
   ]
  },
  {
   "cell_type": "code",
   "execution_count": 3,
   "metadata": {},
   "outputs": [
    {
     "name": "stdout",
     "output_type": "stream",
     "text": [
      "The sum is: 15\n",
      "Please enter a valid number!\n",
      "The sum is: 5\n"
     ]
    }
   ],
   "source": [
    "while True:\n",
    "    try:\n",
    "        num1 = int(input(\"Enter the first number: \"))\n",
    "        num2 = int(input(\"Enter the second number: \"))\n",
    "        result = num1 + num2\n",
    "        print(\"The sum is:\", result)\n",
    "    except ValueError:\n",
    "        print(\"Please enter a valid number!\")\n",
    "    else:\n",
    "        response = input(\"Do you want to add another set of numbers? (y/n): \")\n",
    "        if response.lower() != \"y\":\n",
    "            break"
   ]
  },
  {
   "attachments": {},
   "cell_type": "markdown",
   "metadata": {},
   "source": [
    "## Program #3 - Cats and Dogs\n",
    "\n",
    "Make two files, cats.txt and dogs.txt. Store at least three names of cats in the first file and three names of dogs in the second file. Write a program that tries to read these files and print the contents of the file to the screen. Wrap your code in a try-except block to catch the FileNotFound error, and print a friendly message if a file is missing. Move one of the files to a different location on your system, and make sure the code in the except block executes properly."
   ]
  },
  {
   "cell_type": "code",
   "execution_count": null,
   "metadata": {},
   "outputs": [],
   "source": [
    "cat_file = 'cats.txt'\n",
    "dog_file = 'dogs.txt'\n",
    "\n",
    "try:\n",
    "    with open(cat_file) as file_object:\n",
    "        cats = file_object.readlines()\n",
    "    with open(dog_file) as file_object:\n",
    "        dogs = file_object.readlines()\n",
    "except FileNotFoundError:\n",
    "    print(\"One or both of the files does not exist.\")\n",
    "else:\n",
    "    print(\"Cats:\")\n",
    "    for cat in cats:\n",
    "        print(\"- \" + cat.strip())\n",
    "    print(\"\\nDogs:\")\n",
    "    for dog in dogs:\n",
    "        print(\"- \" + dog.strip())\n"
   ]
  }
 ],
 "metadata": {
  "kernelspec": {
   "display_name": "Python 3",
   "language": "python",
   "name": "python3"
  },
  "language_info": {
   "codemirror_mode": {
    "name": "ipython",
    "version": 3
   },
   "file_extension": ".py",
   "mimetype": "text/x-python",
   "name": "python",
   "nbconvert_exporter": "python",
   "pygments_lexer": "ipython3",
   "version": "3.9.0"
  },
  "orig_nbformat": 4
 },
 "nbformat": 4,
 "nbformat_minor": 2
}
