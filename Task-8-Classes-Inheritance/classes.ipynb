{
 "cells": [
  {
   "attachments": {},
   "cell_type": "markdown",
   "metadata": {},
   "source": [
    "## Program #1 - Restaurant\n",
    "\n",
    "Make a class called Restaurant. The __init__() method for Restaurant should store two attributes: a restaurant_name and a cuisine_type.\n",
    "\n",
    "Make a method called describe_restaurant() that prints these two pieces of\n",
    "\n",
    "information, and a method called open_restaurant() that prints a message indi-\n",
    "cating that the restaurant is open.\n",
    "\n",
    "Make an instance called restaurant from your class. Print the two attri-\n",
    "butes individually, and then call both methods."
   ]
  },
  {
   "cell_type": "code",
   "execution_count": 1,
   "metadata": {},
   "outputs": [
    {
     "name": "stdout",
     "output_type": "stream",
     "text": [
      "La Belle Vie\n",
      "French\n",
      "La Belle Vie is a French restaurant.\n",
      "La Belle Vie is now open!\n"
     ]
    }
   ],
   "source": [
    "class Restaurant:\n",
    "    def __init__(self, restaurant_name, cuisine_type):\n",
    "        self.restaurant_name = restaurant_name\n",
    "        self.cuisine_type = cuisine_type\n",
    "\n",
    "    def describe_restaurant(self):\n",
    "        print(f\"{self.restaurant_name} is a {self.cuisine_type} restaurant.\")\n",
    "\n",
    "    def open_restaurant(self):\n",
    "        print(f\"{self.restaurant_name} is now open!\")\n",
    "\n",
    "\n",
    "restaurant = Restaurant(\"La Belle Vie\", \"French\")\n",
    "\n",
    "\n",
    "print(restaurant.restaurant_name)\n",
    "print(restaurant.cuisine_type)\n",
    "\n",
    "\n",
    "restaurant.describe_restaurant()\n",
    "restaurant.open_restaurant()"
   ]
  },
  {
   "attachments": {},
   "cell_type": "markdown",
   "metadata": {},
   "source": [
    "## Program #2 - Three Restaurants\n",
    "\n",
    "Start with your class from Exercise 9-1. Create three different instances from the class, and call describe_restaurant() for each\n",
    "instance."
   ]
  },
  {
   "cell_type": "code",
   "execution_count": 2,
   "metadata": {},
   "outputs": [
    {
     "name": "stdout",
     "output_type": "stream",
     "text": [
      "La Belle Vie is a French restaurant.\n",
      "Taj Mahal is a Indian restaurant.\n",
      "Sushi Zen is a Japanese restaurant.\n"
     ]
    }
   ],
   "source": [
    "restaurant1 = Restaurant(\"La Belle Vie\", \"French\")\n",
    "restaurant2 = Restaurant(\"Taj Mahal\", \"Indian\")\n",
    "restaurant3 = Restaurant(\"Sushi Zen\", \"Japanese\")\n",
    "\n",
    "restaurant1.describe_restaurant()\n",
    "restaurant2.describe_restaurant()\n",
    "restaurant3.describe_restaurant()\n"
   ]
  },
  {
   "attachments": {},
   "cell_type": "markdown",
   "metadata": {},
   "source": [
    "## Program #3 - Users\n",
    "\n",
    "Make a class called User. Create two attributes called first_name and last_name, and then create several other attributes that are typically stored in a user profile.\n",
    "\n",
    "+ Make a method called describe_user() that prints a summary of the user’s information. \n",
    "+ Make another method called greet_user() that prints a personalized greeting to the user.\n",
    "\n",
    "Create several instances representing different users, and call both methods for each user."
   ]
  },
  {
   "cell_type": "code",
   "execution_count": 3,
   "metadata": {},
   "outputs": [
    {
     "name": "stdout",
     "output_type": "stream",
     "text": [
      "Name: Ahmed Ali\n",
      "Age: 25\n",
      "Location: Karachi, Pakistan\n",
      "Hello, Ahmed! Welcome back.\n",
      "Name: Fatima Khan\n",
      "Age: 30\n",
      "Location: Lahore, Pakistan\n",
      "Hello, Fatima! Welcome back.\n",
      "Name: Hassan Raza\n",
      "Age: 35\n",
      "Location: Islamabad, Pakistan\n",
      "Hello, Hassan! Welcome back.\n"
     ]
    }
   ],
   "source": [
    "class User:\n",
    "    def __init__(self, first_name, last_name, age, city, country):\n",
    "        self.first_name = first_name\n",
    "        self.last_name = last_name\n",
    "        self.age = age\n",
    "        self.city = city\n",
    "        self.country = country\n",
    "\n",
    "    def describe_user(self):\n",
    "        print(f\"Name: {self.first_name} {self.last_name}\")\n",
    "        print(f\"Age: {self.age}\")\n",
    "        print(f\"Location: {self.city}, {self.country}\")\n",
    "\n",
    "    def greet_user(self):\n",
    "        print(f\"Hello, {self.first_name}! Welcome back.\")\n",
    "\n",
    "\n",
    "user1 = User(\"Ahmed\", \"Ali\", 25, \"Karachi\", \"Pakistan\")\n",
    "user2 = User(\"Fatima\", \"Khan\", 30, \"Lahore\", \"Pakistan\")\n",
    "user3 = User(\"Hassan\", \"Raza\", 35, \"Islamabad\", \"Pakistan\")\n",
    "\n",
    "user1.describe_user()\n",
    "user1.greet_user()\n",
    "\n",
    "user2.describe_user()\n",
    "user2.greet_user()\n",
    "\n",
    "user3.describe_user()\n",
    "user3.greet_user()\n"
   ]
  },
  {
   "attachments": {},
   "cell_type": "markdown",
   "metadata": {},
   "source": [
    "## Program #4 - Number Served\n",
    "\n",
    "Start with your program from Exercise 9-1 (page 166).\n",
    "\n",
    "Add an attribute called number_served with a default value of 0. Create an instance called restaurant from this class. Print the number of customers the restaurant has served, and then change this value and print it again.\n",
    "\n",
    "Add a method called set_number_served() that lets you set the number of customers that have been served. Call this method with a new number and print the value again.\n",
    "\n",
    "Add a method called increment_number_served() that lets you increment the number of customers who’ve been served. Call this method with any number you like that could represent how many customers were served in, say, a day of business."
   ]
  },
  {
   "cell_type": "code",
   "execution_count": 4,
   "metadata": {},
   "outputs": [
    {
     "name": "stdout",
     "output_type": "stream",
     "text": [
      "Number of customers served: 0\n",
      "Number of customers served: 10\n",
      "Number of customers served: 20\n",
      "Number of customers served: 35\n"
     ]
    }
   ],
   "source": [
    "class Restaurant:\n",
    "    def __init__(self, restaurant_name, cuisine_type):\n",
    "        self.restaurant_name = restaurant_name\n",
    "        self.cuisine_type = cuisine_type\n",
    "        self.number_served = 0\n",
    "\n",
    "    def describe_restaurant(self):\n",
    "        print(f\"{self.restaurant_name} is a {self.cuisine_type} restaurant.\")\n",
    "\n",
    "    def open_restaurant(self):\n",
    "        print(f\"{self.restaurant_name} is now open!\")\n",
    "\n",
    "    def set_number_served(self, num_customers):\n",
    "        self.number_served = num_customers\n",
    "\n",
    "    def increment_number_served(self, num_customers):\n",
    "        self.number_served += num_customers\n",
    "\n",
    "restaurant = Restaurant(\"La Belle Vie\", \"French\")\n",
    "\n",
    "print(f\"Number of customers served: {restaurant.number_served}\")\n",
    "restaurant.number_served = 10\n",
    "print(f\"Number of customers served: {restaurant.number_served}\")\n",
    "\n",
    "restaurant.set_number_served(20)\n",
    "print(f\"Number of customers served: {restaurant.number_served}\")\n",
    "\n",
    "restaurant.increment_number_served(15)\n",
    "print(f\"Number of customers served: {restaurant.number_served}\")\n"
   ]
  },
  {
   "attachments": {},
   "cell_type": "markdown",
   "metadata": {},
   "source": [
    "## Program #5 - Login Attempts\n",
    "\n",
    "Add an attribute called login_attempts to your User class from Exercise 9-3 (page 166). Write a method called increment_\n",
    "login_attempts() that increments the value of login_attempts by 1. Write another method called reset_login_attempts() that resets the value of login_ attempts to 0.\n",
    "\n",
    "Make an instance of the User class and call increment_login_attempts() several times. Print the value of login_attempts to make sure it was incremented properly, and then call reset_login_attempts(). Print login_attempts again to make sure it was reset to 0."
   ]
  },
  {
   "cell_type": "code",
   "execution_count": 5,
   "metadata": {},
   "outputs": [
    {
     "name": "stdout",
     "output_type": "stream",
     "text": [
      "Login attempts: 0\n",
      "Login attempts: 2\n",
      "Login attempts: 0\n"
     ]
    }
   ],
   "source": [
    "class User:\n",
    "    def __init__(self, first_name, last_name, age, city, country):\n",
    "        self.first_name = first_name\n",
    "        self.last_name = last_name\n",
    "        self.age = age\n",
    "        self.city = city\n",
    "        self.country = country\n",
    "        self.login_attempts = 0\n",
    "\n",
    "    def describe_user(self):\n",
    "        print(f\"Name: {self.first_name} {self.last_name}\")\n",
    "        print(f\"Age: {self.age}\")\n",
    "        print(f\"Location: {self.city}, {self.country}\")\n",
    "\n",
    "    def greet_user(self):\n",
    "        print(f\"Hello, {self.first_name}! Welcome back.\")\n",
    "\n",
    "    def increment_login_attempts(self):\n",
    "        self.login_attempts += 1\n",
    "\n",
    "    def reset_login_attempts(self):\n",
    "        self.login_attempts = 0\n",
    "\n",
    "\n",
    "user = User(\"Ali\", \"Khan\", 28, \"Lahore\", \"Pakistan\")\n",
    "\n",
    "print(f\"Login attempts: {user.login_attempts}\")\n",
    "user.increment_login_attempts()\n",
    "user.increment_login_attempts()\n",
    "print(f\"Login attempts: {user.login_attempts}\")\n",
    "user.reset_login_attempts()\n",
    "print(f\"Login attempts: {user.login_attempts}\")\n"
   ]
  }
 ],
 "metadata": {
  "kernelspec": {
   "display_name": "Python 3",
   "language": "python",
   "name": "python3"
  },
  "language_info": {
   "codemirror_mode": {
    "name": "ipython",
    "version": 3
   },
   "file_extension": ".py",
   "mimetype": "text/x-python",
   "name": "python",
   "nbconvert_exporter": "python",
   "pygments_lexer": "ipython3",
   "version": "3.9.0"
  },
  "orig_nbformat": 4
 },
 "nbformat": 4,
 "nbformat_minor": 2
}
