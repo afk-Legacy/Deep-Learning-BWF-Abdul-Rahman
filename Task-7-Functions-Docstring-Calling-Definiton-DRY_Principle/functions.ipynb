{
 "cells": [
  {
   "attachments": {},
   "cell_type": "markdown",
   "metadata": {},
   "source": [
    "## Program #1 - Message"
   ]
  },
  {
   "cell_type": "code",
   "execution_count": 1,
   "metadata": {},
   "outputs": [
    {
     "name": "stdout",
     "output_type": "stream",
     "text": [
      "I am learning about defining functions, passing information to them using arguments and parameters.\n"
     ]
    }
   ],
   "source": [
    "def display_message():\n",
    "    print(\"I am learning about defining functions, passing information to them using arguments and parameters.\")\n",
    "\n",
    "display_message()\n"
   ]
  },
  {
   "attachments": {},
   "cell_type": "markdown",
   "metadata": {},
   "source": [
    "## Program #2 - Favorite Book\n",
    "\n",
    "Write a function called favorite_book() that accepts one parameter, title. The function should print a message, such as One of my\n",
    "favorite books is Alice in Wonderland. Call the function, making sure to include a book title as an argument in the function call."
   ]
  },
  {
   "cell_type": "code",
   "execution_count": 2,
   "metadata": {},
   "outputs": [
    {
     "name": "stdout",
     "output_type": "stream",
     "text": [
      "One of my favorite books is The Blood of Elves.\n"
     ]
    }
   ],
   "source": [
    "def favorite_book(title):\n",
    "    print(\"One of my favorite books is \" + title + \".\")\n",
    "\n",
    "# Call the function with a book title as an argument\n",
    "favorite_book(\"The Blood of Elves\")\n"
   ]
  },
  {
   "attachments": {},
   "cell_type": "markdown",
   "metadata": {},
   "source": [
    "## Program #3 - TShirt\n",
    "\n",
    "Write a function called make_shirt() that accepts a size and the text of a message that should be printed on the shirt. The function should print a sentence summarizing the size of the shirt and the message printed on it.\n",
    "\n",
    "Call the function once using positional arguments to make a shirt. \n",
    "\n",
    "Call the function a second time using keyword arguments."
   ]
  },
  {
   "cell_type": "code",
   "execution_count": 4,
   "metadata": {},
   "outputs": [
    {
     "name": "stdout",
     "output_type": "stream",
     "text": [
      "The shirt size is medium and it should have the message: Hello, World!\n",
      "The shirt size is large and it should have the message: Python is awesome! (but slow)\n"
     ]
    }
   ],
   "source": [
    "def make_shirt(size, message):\n",
    "    \"\"\"Print a summary of a shirt's size and message.\"\"\"\n",
    "    print(\"The shirt size is \" + size + \" and it should have the message: \" + message)\n",
    "\n",
    "# Call the function using positional arguments\n",
    "make_shirt(\"medium\", \"Hello, World!\")\n",
    "\n",
    "# Call the function using keyword arguments\n",
    "make_shirt(size=\"large\", message=\"Python is awesome! (but slow)\")\n"
   ]
  },
  {
   "attachments": {},
   "cell_type": "markdown",
   "metadata": {},
   "source": [
    "## Program #4 - Large Shirts\n",
    "\n",
    "Modify the make_shirt() function so that shirts are large by default with a message that reads I love Python. Make a large shirt and a medium shirt with the default message, and a shirt of any size with a different message."
   ]
  },
  {
   "cell_type": "code",
   "execution_count": 5,
   "metadata": {},
   "outputs": [
    {
     "name": "stdout",
     "output_type": "stream",
     "text": [
      "The shirt size is large and it should have the message: I love Python\n",
      "The shirt size is medium and it should have the message: I love Python\n",
      "The shirt size is small and it should have the message: Python is awesome!\n"
     ]
    }
   ],
   "source": [
    "def make_shirt(size=\"large\", message=\"I love Python\"):\n",
    "    print(\"The shirt size is \" + size + \" and it should have the message: \" + message)\n",
    "\n",
    "\n",
    "make_shirt()\n",
    "\n",
    "\n",
    "make_shirt(size=\"medium\")\n",
    "\n",
    "\n",
    "make_shirt(size=\"small\", message=\"Python is awesome!\")\n"
   ]
  },
  {
   "attachments": {},
   "cell_type": "markdown",
   "metadata": {},
   "source": [
    "## Program #5 - Cities\n",
    "\n",
    "Write a function called describe_city() that accepts the name of a city and its country. The function should print a simple sentence, such as Reykjavik is in Iceland. \n",
    "\n",
    "Give the parameter for the country a default value.\n",
    "Call your function for three different cities, at least one of which is not in the default country."
   ]
  },
  {
   "cell_type": "code",
   "execution_count": 6,
   "metadata": {},
   "outputs": [
    {
     "name": "stdout",
     "output_type": "stream",
     "text": [
      "New York City is in USA.\n",
      "Toronto is in Canada.\n",
      "Karachi is in Pakistan.\n"
     ]
    }
   ],
   "source": [
    "def describe_city(city_name, country_name=\"USA\"):\n",
    "    print(city_name + \" is in \" + country_name + \".\")\n",
    "\n",
    "\n",
    "describe_city(\"New York City\")\n",
    "describe_city(\"Toronto\", \"Canada\")\n",
    "describe_city(\"Karachi\", \"Pakistan\")\n"
   ]
  },
  {
   "attachments": {},
   "cell_type": "markdown",
   "metadata": {},
   "source": [
    "## Program #6 - City Names\n",
    "\n",
    "Write a function called city_country() that takes in the name of a city and its country. The function should return a string formatted like this:\n",
    "\n",
    "\"Santiago, Chile\"\n",
    "\n",
    "Call your function with at least three city-country pairs, and print the value that’s returned."
   ]
  },
  {
   "cell_type": "code",
   "execution_count": 7,
   "metadata": {},
   "outputs": [
    {
     "name": "stdout",
     "output_type": "stream",
     "text": [
      "Santiago, Chile\n",
      "Tokyo, Japan\n",
      "Lahore, Pakistan\n"
     ]
    }
   ],
   "source": [
    "def city_country(city_name, country_name):\n",
    "    return city_name + \", \" + country_name\n",
    "\n",
    "print(city_country(\"Santiago\", \"Chile\"))\n",
    "print(city_country(\"Tokyo\", \"Japan\"))\n",
    "print(city_country(\"Lahore\", \"Pakistan\"))\n"
   ]
  },
  {
   "attachments": {},
   "cell_type": "markdown",
   "metadata": {},
   "source": [
    "## Program #7 - Album\n",
    "\n",
    "Write a function called make_album() that builds a dictionary describing a music album. The function should take in an artist name and an album title, and it should return a dictionary containing these two pieces of information. Use the function to make three dictionaries representing different albums. Print each return value to show that the dictionaries are storing the album information correctly.\n",
    "\n",
    "Add an optional parameter to make_album() that allows you to store the number of tracks on an album. If the calling line includes a value for the number of tracks, add that value to the album’s dictionary. Make at least one new function call that includes the number of tracks on an album."
   ]
  },
  {
   "cell_type": "code",
   "execution_count": 9,
   "metadata": {},
   "outputs": [
    {
     "name": "stdout",
     "output_type": "stream",
     "text": [
      "{'artist': 'Junoon', 'title': 'Azadi'}\n",
      "{'artist': 'Strings', 'title': 'Duur', 'tracks': 12}\n",
      "{'artist': 'Nusrat Fateh Ali Khan', 'title': 'Devotional and Love Songs'}\n"
     ]
    }
   ],
   "source": [
    "def make_album(artist_name, album_title, num_tracks=None):\n",
    "    album = {'artist': artist_name, 'title': album_title}\n",
    "    if num_tracks:\n",
    "        album['tracks'] = num_tracks\n",
    "    return album\n",
    "\n",
    "\n",
    "album1 = make_album('Junoon', 'Azadi')\n",
    "album2 = make_album('Strings', 'Duur', 12)\n",
    "album3 = make_album('Nusrat Fateh Ali Khan', 'Devotional and Love Songs')\n",
    "\n",
    "print(album1)\n",
    "print(album2)\n",
    "print(album3)\n"
   ]
  },
  {
   "attachments": {},
   "cell_type": "markdown",
   "metadata": {},
   "source": [
    "## Program #8 - User Albums\n",
    "\n",
    "Write a while loop that allows users to enter an album’s artist and title. Once you have that information, call make_album() with the user’s input and print the dictionary that’s created. Be sure to include a quit value in the while loop."
   ]
  },
  {
   "cell_type": "code",
   "execution_count": 11,
   "metadata": {},
   "outputs": [
    {
     "name": "stdout",
     "output_type": "stream",
     "text": [
      "\n",
      "Enter album information or enter 'q' to quit:\n",
      "{'artist': 'Sad', 'title': 'Life', 'tracks': '0'}\n",
      "\n",
      "Enter album information or enter 'q' to quit:\n"
     ]
    }
   ],
   "source": [
    "while True:\n",
    "    print(\"\\nEnter album information or enter 'q' to quit:\")\n",
    "    artist = input(\"Enter artist name: \")\n",
    "    if artist == 'q':\n",
    "        break\n",
    "    title = input(\"Enter album title: \")\n",
    "    if title == 'q':\n",
    "        break\n",
    "    tracks = input(\"Enter number of tracks (optional): \")\n",
    "    if tracks == 'q':\n",
    "        break\n",
    "\n",
    "    # Call the make_album() function with the user's input and print the resulting dictionary\n",
    "    if tracks:\n",
    "        album = make_album(artist, title, tracks)\n",
    "    else:\n",
    "        album = make_album(artist, title)\n",
    "    print(album)\n"
   ]
  },
  {
   "attachments": {},
   "cell_type": "markdown",
   "metadata": {},
   "source": [
    "## Program #9 - Magicians\n",
    "\n",
    "Make a list of magician’s names. Pass the list to a function called show_magicians(), which prints the name of each magician in the list."
   ]
  },
  {
   "cell_type": "code",
   "execution_count": 20,
   "metadata": {},
   "outputs": [
    {
     "name": "stdout",
     "output_type": "stream",
     "text": [
      "David Copperfield\n",
      "Harry Houdini\n",
      "Penn Jillette\n",
      "Teller\n"
     ]
    }
   ],
   "source": [
    "def show_magicians(magicians):\n",
    "    for magician in magicians:\n",
    "        print(magician)\n",
    "\n",
    "\n",
    "magicians = ['David Copperfield', 'Harry Houdini', 'Penn Jillette', 'Teller']\n",
    "\n",
    "\n",
    "show_magicians(magicians)\n"
   ]
  },
  {
   "attachments": {},
   "cell_type": "markdown",
   "metadata": {},
   "source": [
    "## Program #10 - Great Magicians\n",
    "\n",
    "Write a function called make_great() that modifies the list of magicians by adding the phrase the Great to each magician’s name. Call show_magicians() to see that the list has actually been modified."
   ]
  },
  {
   "cell_type": "code",
   "execution_count": 19,
   "metadata": {},
   "outputs": [
    {
     "name": "stdout",
     "output_type": "stream",
     "text": [
      "The Great David Copperfield\n",
      "The Great Harry Houdini\n",
      "The Great Penn Jillette\n",
      "The Great Teller\n"
     ]
    }
   ],
   "source": [
    "def make_great(magicians):\n",
    "    for i in range(len(magicians)):\n",
    "        magicians[i] = \"The Great \" + magicians[i]\n",
    "\n",
    "magicians = ['David Copperfield', 'Harry Houdini', 'Penn Jillette', 'Teller']\n",
    "\n",
    "make_great(magicians)\n",
    "\n",
    "show_magicians(magicians)\n"
   ]
  },
  {
   "attachments": {},
   "cell_type": "markdown",
   "metadata": {},
   "source": [
    "## Program #11 - Unchanged Magicians\n",
    "\n",
    "Call the function make_great() with a copy of the list of magicians’ names. Because the original list will be unchanged, return the new list and store it in a separate list.\n",
    "\n",
    "Call show_magicians() with each list to show that you have one list of the original names and one list with the Great added to each magician’s name."
   ]
  },
  {
   "cell_type": "code",
   "execution_count": 18,
   "metadata": {},
   "outputs": [
    {
     "name": "stdout",
     "output_type": "stream",
     "text": [
      "Original Magicians:\n",
      "David Copperfield\n",
      "Harry Houdini\n",
      "Penn Jillette\n",
      "Teller\n",
      "\n",
      "Great Magicians:\n",
      "tThe Great David Copperfield\n",
      "tThe Great Harry Houdini\n",
      "tThe Great Penn Jillette\n",
      "tThe Great Teller\n"
     ]
    }
   ],
   "source": [
    "def make_great(magicians):\n",
    "    for i in range(len(magicians)):\n",
    "        magicians[i] = \"tThe Great \" + magicians[i]\n",
    "\n",
    "    return magicians\n",
    "\n",
    "magicians = ['David Copperfield', 'Harry Houdini', 'Penn Jillette', 'Teller']\n",
    "\n",
    "# Make a copy of the list and call make_great() with the copy\n",
    "great_magicians = magicians[:]\n",
    "great_magicians = make_great(great_magicians)\n",
    "\n",
    "print(\"Original Magicians:\")\n",
    "show_magicians(magicians)\n",
    "print(\"\\nGreat Magicians:\")\n",
    "show_magicians(great_magicians)\n"
   ]
  },
  {
   "attachments": {},
   "cell_type": "markdown",
   "metadata": {},
   "source": [
    "## Program #12 - Sandwiches\n",
    "\n",
    "Write a function that accepts a list of items a person wants on a sandwich. The function should have one parameter that collects as many items as the function call provides, and it should print a summary of the sandwich that is being ordered. Call the function three times, using a different number of arguments each time."
   ]
  },
  {
   "cell_type": "code",
   "execution_count": 1,
   "metadata": {},
   "outputs": [
    {
     "name": "stdout",
     "output_type": "stream",
     "text": [
      "Making a sandwich with the following items:\n",
      "- turkey\n",
      "- lettuce\n",
      "- mayo\n",
      "Done!\n",
      "\n",
      "Making a sandwich with the following items:\n",
      "- chicken\n",
      "- cheese\n",
      "Done!\n",
      "\n",
      "Making a sandwich with the following items:\n",
      "- peanut butter\n",
      "- jelly\n",
      "- bread\n",
      "Done!\n",
      "\n"
     ]
    }
   ],
   "source": [
    "def make_sandwich(*items):\n",
    "    print(\"Making a sandwich with the following items:\")\n",
    "    for item in items:\n",
    "        print(\"- \" + item)\n",
    "    print(\"Done!\\n\")\n",
    "\n",
    "make_sandwich(\"turkey\", \"lettuce\", \"mayo\")\n",
    "make_sandwich(\"chicken\", \"cheese\")\n",
    "make_sandwich(\"peanut butter\", \"jelly\", \"bread\")\n"
   ]
  },
  {
   "attachments": {},
   "cell_type": "markdown",
   "metadata": {},
   "source": [
    "## Program #13 - User Profile\n",
    "\n",
    "Start with a copy of user_profile.py from page 153. Build a profile of yourself by calling build_profile(), using your first and last names and three other key-value pairs that describe you."
   ]
  },
  {
   "cell_type": "code",
   "execution_count": 2,
   "metadata": {},
   "outputs": [
    {
     "name": "stdout",
     "output_type": "stream",
     "text": [
      "{'first_name': 'Saleem', 'last_name': 'Khan', 'age': 30, 'occupation': 'Software Engineer', 'hobby': 'Reading'}\n"
     ]
    }
   ],
   "source": [
    "def build_profile(first, last, **user_info):\n",
    "    profile = {}\n",
    "    profile['first_name'] = first\n",
    "    profile['last_name'] = last\n",
    "    for key, value in user_info.items():\n",
    "        profile[key] = value\n",
    "    return profile\n",
    "\n",
    "my_profile = build_profile('Saleem', 'Khan', age=30, occupation='Software Engineer', hobby='Reading')\n",
    "print(my_profile)\n"
   ]
  },
  {
   "attachments": {},
   "cell_type": "markdown",
   "metadata": {},
   "source": [
    "## Program #14 - Cars\n",
    "\n",
    "Write a function that stores information about a car in a dictionary. The function should always receive a manufacturer and a model name. \n",
    "\n",
    "It should then accept an arbitrary number of keyword arguments. Call the function with the required information and two other name-value pairs, such as a color or an optional feature. \n",
    "\n",
    "Your function should work for a call like this one:\n",
    "\n",
    "car = make_car('subaru', 'outback', color='blue', tow_package=True)\n",
    "\n",
    "Print the dictionary that’s returned to make sure all the information was stored correctly."
   ]
  },
  {
   "cell_type": "code",
   "execution_count": 3,
   "metadata": {},
   "outputs": [
    {
     "name": "stdout",
     "output_type": "stream",
     "text": [
      "{'manufacturer': 'subaru', 'model': 'outback', 'color': 'blue', 'tow_package': True}\n"
     ]
    }
   ],
   "source": [
    "def make_car(manufacturer, model, **car_info):\n",
    "    car = {}\n",
    "    car['manufacturer'] = manufacturer\n",
    "    car['model'] = model\n",
    "    for key, value in car_info.items():\n",
    "        car[key] = value\n",
    "    return car\n",
    "\n",
    "car = make_car('subaru', 'outback', color='blue', tow_package=True)\n",
    "print(car)\n"
   ]
  }
 ],
 "metadata": {
  "kernelspec": {
   "display_name": "Python 3",
   "language": "python",
   "name": "python3"
  },
  "language_info": {
   "codemirror_mode": {
    "name": "ipython",
    "version": 3
   },
   "file_extension": ".py",
   "mimetype": "text/x-python",
   "name": "python",
   "nbconvert_exporter": "python",
   "pygments_lexer": "ipython3",
   "version": "3.9.0"
  },
  "orig_nbformat": 4
 },
 "nbformat": 4,
 "nbformat_minor": 2
}
